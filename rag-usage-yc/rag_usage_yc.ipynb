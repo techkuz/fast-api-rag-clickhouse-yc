{
 "cells": [
  {
   "cell_type": "markdown",
   "id": "aa6048c8",
   "metadata": {},
   "source": [
    "### 1. Устанавливаем необходимые библиотеки"
   ]
  },
  {
   "cell_type": "code",
   "execution_count": null,
   "id": "f747e134-38f3-42c5-bb8a-0f1879e74b28",
   "metadata": {},
   "outputs": [],
   "source": [
    "pip install -r requirements.txt"
   ]
  },
  {
   "cell_type": "markdown",
   "id": "5d1ce215",
   "metadata": {},
   "source": [
    "После установки библиотек необходимо перегазгрузить Kernel. Для этого в верхнем меню выберите Kernel -> Restart Kernel"
   ]
  },
  {
   "cell_type": "markdown",
   "id": "14674813",
   "metadata": {},
   "source": [
    "### 2. Указываем необходимые параметры для работы с облаком"
   ]
  },
  {
   "cell_type": "code",
   "execution_count": null,
   "id": "db087514",
   "metadata": {},
   "outputs": [],
   "source": [
    "TOKEN = \"\" # IAM токен, подробнее - https://yandex.cloud/ru/docs/iam/operations/iam-token/create-for-sa\n",
    "FOLDER_ID = \"\" # ваш folder_id в облаке "
   ]
  },
  {
   "cell_type": "markdown",
   "id": "7902294c",
   "metadata": {},
   "source": [
    "##### скачиваем сертификат"
   ]
  },
  {
   "cell_type": "code",
   "execution_count": 33,
   "id": "a373e8d7-1552-4e10-9fcc-eb01ae4ad50a",
   "metadata": {
    "execution": {
     "iopub.execute_input": "2024-05-12T14:10:28.795720Z",
     "iopub.status.busy": "2024-05-12T14:10:28.795281Z",
     "iopub.status.idle": "2024-05-12T14:10:28.851324Z",
     "shell.execute_reply": "2024-05-12T14:10:28.850494Z",
     "shell.execute_reply.started": "2024-05-12T14:10:28.795691Z"
    },
    "tags": []
   },
   "outputs": [
    {
     "name": "stderr",
     "output_type": "stream",
     "text": [
      "--2024-05-12 14:10:28--  https://storage.yandexcloud.net/cloud-certs/CA.pem\n",
      "Resolving storage.yandexcloud.net (storage.yandexcloud.net)... 213.180.193.243, 2a02:6b8::1d9\n",
      "Connecting to storage.yandexcloud.net (storage.yandexcloud.net)|213.180.193.243|:443... connected.\n",
      "HTTP request sent, awaiting response... 200 OK\n",
      "Length: 3579 (3.5K) [application/x-x509-ca-cert]\n",
      "Saving to: ‘/home/jupyter/datasphere/project/.clickhouse/root.crt’\n",
      "\n",
      "     0K ...                                                   100% 5.86G=0s\n",
      "\n",
      "2024-05-12 14:10:28 (5.86 GB/s) - ‘/home/jupyter/datasphere/project/.clickhouse/root.crt’ saved [3579/3579]\n",
      "\n"
     ]
    }
   ],
   "source": [
    "!mkdir -p /home/jupyter/datasphere/project/.clickhouse && \\\n",
    "wget \"https://storage.yandexcloud.net/cloud-certs/CA.pem\" \\\n",
    "     --output-document /home/jupyter/datasphere/project/.clickhouse/root.crt && \\\n",
    "chmod 0600 /home/jupyter/datasphere/project/.clickhouse/root.crt"
   ]
  },
  {
   "cell_type": "markdown",
   "id": "2efebd97",
   "metadata": {},
   "source": [
    "### 3. Тестируем подключение к Clickhouse"
   ]
  },
  {
   "cell_type": "code",
   "execution_count": 34,
   "id": "68f68ed2-d237-4204-a22d-f5903509f207",
   "metadata": {
    "execution": {
     "iopub.execute_input": "2024-05-12T14:10:46.337643Z",
     "iopub.status.busy": "2024-05-12T14:10:46.337025Z",
     "iopub.status.idle": "2024-05-12T14:10:46.346371Z",
     "shell.execute_reply": "2024-05-12T14:10:46.345755Z",
     "shell.execute_reply.started": "2024-05-12T14:10:46.337614Z"
    },
    "tags": []
   },
   "outputs": [],
   "source": [
    "# импортируем библиотеку\n",
    "import clickhouse_connect"
   ]
  },
  {
   "cell_type": "code",
   "execution_count": 35,
   "id": "f4b96043-d688-470b-9a57-defbdffd1553",
   "metadata": {
    "execution": {
     "iopub.execute_input": "2024-05-12T14:10:51.165795Z",
     "iopub.status.busy": "2024-05-12T14:10:51.165167Z",
     "iopub.status.idle": "2024-05-12T14:10:51.175023Z",
     "shell.execute_reply": "2024-05-12T14:10:51.174431Z",
     "shell.execute_reply.started": "2024-05-12T14:10:51.165766Z"
    },
    "tags": []
   },
   "outputs": [],
   "source": [
    "# указываем параметры подключения\n",
    "CA = '/home/jupyter/datasphere/project/.clickhouse/root.crt' # если вы не меняли путь при скачивании сертификата \n",
    "\n",
    "VERIFY = True\n",
    "SECURE = True\n",
    "USER = 'admin'\n",
    "PASSWORD = ''\n",
    "HOST = \"\" # адрес Clickhouse\n",
    "PORT = 8443"
   ]
  },
  {
   "cell_type": "code",
   "execution_count": 36,
   "id": "3cffdf94-0140-4000-8345-fe51fd9db527",
   "metadata": {
    "execution": {
     "iopub.execute_input": "2024-05-12T14:10:54.489011Z",
     "iopub.status.busy": "2024-05-12T14:10:54.488578Z",
     "iopub.status.idle": "2024-05-12T14:10:54.589731Z",
     "shell.execute_reply": "2024-05-12T14:10:54.588988Z",
     "shell.execute_reply.started": "2024-05-12T14:10:54.488989Z"
    },
    "tags": []
   },
   "outputs": [
    {
     "name": "stdout",
     "output_type": "stream",
     "text": [
      "24.3.2.23\n"
     ]
    }
   ],
   "source": [
    "# выполняем запрос - в случае успешного выполнения будет показана текущая версия Clickhouse\n",
    "with clickhouse_connect.get_client(\n",
    "            host=HOST, port=PORT, username=USER,\n",
    "            password=PASSWORD, secure=SECURE, verify=VERIFY, ca_cert=CA) as ch_client:\n",
    "        print(ch_client.command('SELECT version()'))"
   ]
  },
  {
   "cell_type": "markdown",
   "id": "f45a8dc8",
   "metadata": {},
   "source": [
    "### 4. Создаем индекс в Clickhouse для поиска релевантных документов "
   ]
  },
  {
   "cell_type": "code",
   "execution_count": null,
   "id": "3369bb7c-a639-4a0b-853f-c242c12dbfb4",
   "metadata": {
    "execution": {
     "iopub.execute_input": "2024-05-12T14:10:58.826976Z",
     "iopub.status.busy": "2024-05-12T14:10:58.826256Z",
     "iopub.status.idle": "2024-05-12T14:10:58.836645Z",
     "shell.execute_reply": "2024-05-12T14:10:58.836008Z",
     "shell.execute_reply.started": "2024-05-12T14:10:58.826940Z"
    },
    "tags": []
   },
   "outputs": [],
   "source": [
    "# импортируем необходимые библиотеки. В качестве фреймворка используется langchain\n",
    "\n",
    "from langchain.text_splitter import RecursiveCharacterTextSplitter\n",
    "from langchain.chains import LLMChain\n",
    "from langchain.chains.combine_documents.stuff import StuffDocumentsChain\n",
    "from langchain_core.prompts.prompt import PromptTemplate\n",
    "from langchain_community.llms import YandexGPT\n",
    "from langchain_community.embeddings.yandex import YandexGPTEmbeddings\n",
    "from langchain_community.document_loaders import S3DirectoryLoader\n",
    "from langchain_community.vectorstores import ClickhouseSettings, Clickhouse"
   ]
  },
  {
   "cell_type": "code",
   "execution_count": 38,
   "id": "99090eaf-80a3-4894-8945-2062194e5fef",
   "metadata": {
    "execution": {
     "iopub.execute_input": "2024-05-12T14:11:12.085638Z",
     "iopub.status.busy": "2024-05-12T14:11:12.085002Z",
     "iopub.status.idle": "2024-05-12T14:11:12.093785Z",
     "shell.execute_reply": "2024-05-12T14:11:12.093149Z",
     "shell.execute_reply.started": "2024-05-12T14:11:12.085609Z"
    },
    "tags": []
   },
   "outputs": [],
   "source": [
    "# параметры object storage \n",
    "\n",
    "S3_PREFIX = ''\n",
    "S3_BUCKET = ''\n",
    "S3_URL = 'https://storage.yandexcloud.net'\n",
    "S3_ACCESS_KEY_ID = ''\n",
    "S3_SECRET_ACCESS_KEY = '' # https://yandex.cloud/en/docs/iam/operations/sa/create-access-key\n",
    "\n",
    "# Создаем объект для считывания документов из бакета в S3\n",
    "loader = S3DirectoryLoader(\n",
    "        bucket=S3_BUCKET,\n",
    "        endpoint_url=S3_URL,\n",
    "        prefix=S3_PREFIX,\n",
    "        aws_access_key_id=S3_ACCESS_KEY_ID,\n",
    "        aws_secret_access_key=S3_SECRET_ACCESS_KEY\n",
    "    )"
   ]
  },
  {
   "cell_type": "code",
   "execution_count": 39,
   "id": "4f91129e-9da2-47de-85f0-0569df38c199",
   "metadata": {
    "execution": {
     "iopub.execute_input": "2024-05-12T14:11:16.150422Z",
     "iopub.status.busy": "2024-05-12T14:11:16.149989Z",
     "iopub.status.idle": "2024-05-12T14:11:16.159711Z",
     "shell.execute_reply": "2024-05-12T14:11:16.159018Z",
     "shell.execute_reply.started": "2024-05-12T14:11:16.150398Z"
    },
    "tags": []
   },
   "outputs": [],
   "source": [
    "# Указываем длины фрагмента, на который разбиваются документы\n",
    "\n",
    "CHUNK_SIZE = 1000\n",
    "CHUNK_OVERLAP = 100"
   ]
  },
  {
   "cell_type": "code",
   "execution_count": 40,
   "id": "d2fa5b50-6bd3-47a6-b6bd-de6eadaedd7f",
   "metadata": {
    "execution": {
     "iopub.execute_input": "2024-05-12T14:11:20.998501Z",
     "iopub.status.busy": "2024-05-12T14:11:20.997883Z",
     "iopub.status.idle": "2024-05-12T14:11:21.601349Z",
     "shell.execute_reply": "2024-05-12T14:11:21.600626Z",
     "shell.execute_reply.started": "2024-05-12T14:11:20.998472Z"
    },
    "tags": []
   },
   "outputs": [],
   "source": [
    "# Считываем документы и разбиваем на фрагменты\n",
    "\n",
    "documents = loader.load()\n",
    "text_splitter = RecursiveCharacterTextSplitter(\n",
    "    chunk_size=CHUNK_SIZE, \n",
    "    chunk_overlap=CHUNK_OVERLAP\n",
    ")\n",
    "splitted_docs = text_splitter.split_documents(documents)"
   ]
  },
  {
   "cell_type": "code",
   "execution_count": 41,
   "id": "a8cbdd8f-c2e4-4ef3-a6ea-97a16e04f4b1",
   "metadata": {
    "execution": {
     "iopub.execute_input": "2024-05-12T14:11:24.574265Z",
     "iopub.status.busy": "2024-05-12T14:11:24.573671Z",
     "iopub.status.idle": "2024-05-12T14:11:24.583093Z",
     "shell.execute_reply": "2024-05-12T14:11:24.582522Z",
     "shell.execute_reply.started": "2024-05-12T14:11:24.574233Z"
    },
    "tags": []
   },
   "outputs": [],
   "source": [
    "# Cоздаем объект YandexGPTEmbeddings для построения векторов с помощью YandexGPT\n",
    "embeddings = YandexGPTEmbeddings(iam_token=TOKEN, folder_id=FOLDER_ID)"
   ]
  },
  {
   "cell_type": "code",
   "execution_count": 43,
   "id": "e3c36c9d-e686-4e55-9dca-2e09f9b5f9f1",
   "metadata": {
    "execution": {
     "iopub.execute_input": "2024-05-12T14:11:52.747968Z",
     "iopub.status.busy": "2024-05-12T14:11:52.747508Z",
     "iopub.status.idle": "2024-05-12T14:11:54.780832Z",
     "shell.execute_reply": "2024-05-12T14:11:54.780163Z",
     "shell.execute_reply.started": "2024-05-12T14:11:52.747942Z"
    },
    "tags": []
   },
   "outputs": [
    {
     "name": "stderr",
     "output_type": "stream",
     "text": [
      "Inserting data...: 100%|██████████| 101/101 [00:00<00:00, 986.70it/s]\n"
     ]
    }
   ],
   "source": [
    "# создаем конфиг подключения через langchain к Clickhouse\n",
    "ch_config = ClickhouseSettings(\n",
    "        host=HOST, port=PORT, username=USER, password=PASSWORD)\n",
    "\n",
    "# Строим вектора по документам и добавляем их в базу Clickhouse\n",
    "\n",
    "docsearch = Clickhouse.from_documents(\n",
    "        splitted_docs,\n",
    "        embeddings,\n",
    "        config=ch_config,\n",
    "        secure=SECURE,\n",
    "        verify=VERIFY,\n",
    "        ca_cert=CA)"
   ]
  },
  {
   "cell_type": "markdown",
   "id": "2cf3aca4",
   "metadata": {},
   "source": [
    "### 5. Тестируем поиск по векторам для запроса \n",
    "\n",
    "###### Могу ли я использовать эти API в pytorch 2.3.0?\n",
    "###### torch.jit.quantized APIs\n",
    "\n",
    "###### torch.jit.quantized.quantize_rnn_cell_modules\n",
    "\n",
    "###### torch.jit.quantized.quantize_rnn_modules\n",
    "###### torch.jit.quantized.quantize_linear_modules\n",
    "\n",
    "###### torch.jit.quantized.QuantizedLinear\n",
    "###### torch.jit.QuantizedLinearFP16\n",
    "\n",
    "###### torch.jit.quantized.QuantizedGRU\n",
    "###### torch.jit.quantized.QuantizedGRUCell\n",
    "###### torch.jit.quantized.QuantizedLSTM\n",
    "###### torch.jit.quantized.QuantizedLSTMCell"
   ]
  },
  {
   "cell_type": "code",
   "execution_count": 15,
   "id": "cb450a51-699f-471b-8473-a0cf97ecfa2a",
   "metadata": {
    "execution": {
     "iopub.execute_input": "2024-05-12T13:36:14.929271Z",
     "iopub.status.busy": "2024-05-12T13:36:14.928321Z",
     "iopub.status.idle": "2024-05-12T13:36:15.680920Z",
     "shell.execute_reply": "2024-05-12T13:36:15.680244Z",
     "shell.execute_reply.started": "2024-05-12T13:36:14.929237Z"
    },
    "tags": []
   },
   "outputs": [],
   "source": [
    "# Тестируем сохраненные вектора\n",
    "query = \"\"\"Могу ли я использовать эти API в pytorch 2.3.0?\n",
    "    # torch.jit.quantized APIs\n",
    "\n",
    "    torch.jit.quantized.quantize_rnn_cell_modules\n",
    "\n",
    "    torch.jit.quantized.quantize_rnn_modules\n",
    "    torch.jit.quantized.quantize_linear_modules\n",
    "\n",
    "    torch.jit.quantized.QuantizedLinear\n",
    "    torch.jit.QuantizedLinearFP16\n",
    "\n",
    "    torch.jit.quantized.QuantizedGRU\n",
    "    torch.jit.quantized.QuantizedGRUCell\n",
    "    torch.jit.quantized.QuantizedLSTM\n",
    "    torch.jit.quantized.QuantizedLSTMCell\n",
    "\"\"\"\n",
    "docs = docsearch.similarity_search(query, k=2)"
   ]
  },
  {
   "cell_type": "code",
   "execution_count": 64,
   "id": "08cc4658-689c-463b-b24f-9b1f353ed623",
   "metadata": {
    "execution": {
     "iopub.execute_input": "2024-05-12T14:24:02.672113Z",
     "iopub.status.busy": "2024-05-12T14:24:02.671460Z",
     "iopub.status.idle": "2024-05-12T14:24:02.694320Z",
     "shell.execute_reply": "2024-05-12T14:24:02.693664Z",
     "shell.execute_reply.started": "2024-05-12T14:24:02.672084Z"
    },
    "tags": []
   },
   "outputs": [
    {
     "name": "stdout",
     "output_type": "stream",
     "text": [
      "pytorch\n",
      "2.2.2\n",
      "2.3.0\n",
      "2024-04-26\n",
      "Backwards Incompatible Changes\n",
      "\n",
      "Remove deprecated torch.jit.quantized APIs (#118406)\n",
      "All functions and classes under torch.jit.quantized will now raise an error if called/instantiated. This API has long been deprecated in favor of torch.ao.nn.quantized.\n",
      "\n",
      "2.2\t2.3\n",
      "# torch.jit.quantized APIs\n",
      "\n",
      "torch.jit.quantized.quantize_rnn_cell_modules\n",
      "\n",
      "torch.jit.quantized.quantize_rnn_modules\n",
      "torch.jit.quantized.quantize_linear_modules\n",
      "\n",
      "torch.jit.quantized.QuantizedLinear\n",
      "torch.jit.QuantizedLinearFP16\n",
      "\n",
      "torch.jit.quantized.QuantizedGRU\n",
      "torch.jit.quantized.QuantizedGRUCell\n",
      "torch.jit.quantized.QuantizedLSTM\n",
      "torch.jit.quantized.QuantizedLSTMCell\n",
      "# Corresponding torch.ao.quantization APIs\n",
      "\n",
      "torch.ao.nn.quantized.dynamic.RNNCell\n",
      "\n",
      "torch.ao.quantization.quantize_dynamic APIs\n",
      "\n",
      "torch.ao.nn.quantized.dynamic.Linear\n",
      "\n",
      "torch.ao.nn.quantized.dynamic.GRU\n",
      "torch.ao.nn.quantized.dynamic.GRUCell\n",
      "torch.ao.nn.quantized.dynamic.LSTM\n",
      "\n",
      " ----------END_OF_DOC---------- \n",
      "\n",
      "pytorch\n",
      "2.2.2\n",
      "2.3.0\n",
      "2024-04-26\n",
      "Documentation\n",
      "\n",
      " ----------END_OF_DOC---------- \n",
      "\n"
     ]
    }
   ],
   "source": [
    "for doc in docs:\n",
    "    beautify_string = bytes(doc.page_content, \"utf-8\").decode(\"unicode_escape\")\n",
    "    print(beautify_string)\n",
    "    print(\"\\n ----------END_OF_DOC---------- \\n\")"
   ]
  },
  {
   "cell_type": "markdown",
   "id": "28e2309e",
   "metadata": {},
   "source": [
    "### 6. Отправляем запрос к YaGPT"
   ]
  },
  {
   "cell_type": "code",
   "execution_count": 68,
   "id": "4711b360-3006-4b85-950b-dd83dc4d7cc6",
   "metadata": {
    "execution": {
     "iopub.execute_input": "2024-05-12T14:25:09.073971Z",
     "iopub.status.busy": "2024-05-12T14:25:09.073549Z",
     "iopub.status.idle": "2024-05-12T14:25:16.476547Z",
     "shell.execute_reply": "2024-05-12T14:25:16.475918Z",
     "shell.execute_reply.started": "2024-05-12T14:25:09.073947Z"
    },
    "tags": []
   },
   "outputs": [
    {
     "name": "stdout",
     "output_type": "stream",
     "text": [
      "Чтобы узнать, поддерживает ли PyTorch 2.3.0 указанные API, вы можете обратиться к документации PyTorch или документации по конкретной функции.\n",
      "\n",
      "Документация PyTorch находится по адресу <https://pytorch.org/docs/stable/index.html>.\n",
      "\n",
      "Документация по API `torch.jit.quantized` находится по адресу <https://pytorch-ru.readthedocs.io/ru/latest/generated/torch.jit.quantized.__index__.htmlmodule-torch.jit.quantized>\n",
      "\n",
      "Из приведённого вами списка, PyTorch 2.3.0 поддерживает следующие API:\n",
      "\n",
      "* `torch.jit.quantize\\_rnn\\_cell\\_modules`\n",
      "* `torch.jit.quantize\\_rnn\\_modules` \n",
      "* `torch.jit.quantize\\_linear\\_modules`\n",
      "\n",
      "**torch.jit.quantized.**`QuantizedLinear`:\n",
      "* **torch**.jit.quantized.*`QuantizedLinearFP16`:\n",
      "* `QuantizedLinear(in_features, out_features, bias=True, bias_init=None, dtype=None, qscheme=None)`\n",
      "\n",
      "**torch**.jit.quantized.*`torch.quantized**.`QuantizedGRU`\n",
      "* torch.quantized.`QuantizedGRU(input_size, hidden_size, num_layers, dropout=0., bias=False, batch_first=False, bidirectional=False, qscheme='fbeta', dtype=torch.qat.default_dtype, device=torch.device(type(0)), padding_with_zero=False)`\n",
      "* **torch.quantized`.QuantizedGRU_0_1(input_size, hidden_size, bias, dropout, dtype, qscheme, padding_with_zero, batch_first, device, _qscheme_type)`\n",
      "\n",
      "**`torch.quantized`**.`QuantizedLSTM`\n",
      "* **`torch.quantized`**.QuantizedLSTM(input_size, hidden_size, num_layers, bias, batch_first, bidirectional, dropout)\n",
      "* **`torch.quantized_0_2`**.QuantizedLSTM_0_3(input_size, output_size, inner_hidden_size, grow_last, bias, num_inner_layers, batch_first = False, bidirectional = False, dropout = 0, qscheme = 'fbeta', qscheme_type = 'default', padding_with_zeros = False, dtype = torch.dtype(torch.qat_default_dtype), device = torch.device(torch.device_type(0)))\n",
      "\n",
      "При этом, из приведённого списка, API `torch.jit.quantiz**ed**.quantiz**e\\_linear_\\*modules`, `torch.jit.quant**iz**ed.Quantiz**edLinearFP16` и `torch**.quant**ized_\\*\\*.Quantiz**edLSTM**Cell** недоступны для PyTorch версии 2.3.0.\n",
      "\n",
      "**Важно отметить, что поддержка этих API может зависеть от версии PyTorch, и информация в документации может меняться.** Рекомендуется проверять актуальную информацию непосредственно в документации PyTorch перед использованием этих API.\n"
     ]
    }
   ],
   "source": [
    "prompt_template = \"Ответь на вопрос {question}\"\n",
    "\n",
    "prompt = PromptTemplate(\n",
    "    input_variables=[\"question\"],\n",
    "    template=prompt_template\n",
    ")\n",
    "\n",
    "llm = YandexGPT(iam_token=TOKEN, folder_id=FOLDER_ID)\n",
    "chain = prompt | llm\n",
    "\n",
    "response = chain.invoke(query)\n",
    "\n",
    "print(response)"
   ]
  },
  {
   "cell_type": "markdown",
   "id": "6d45a206",
   "metadata": {},
   "source": [
    "### 7. Отправляем запрос к YaGPT с использованием найденных раннее релевантных документов"
   ]
  },
  {
   "cell_type": "code",
   "execution_count": 67,
   "id": "9c59e2c2-0d06-4aa0-a5e2-54213ea9b8f7",
   "metadata": {
    "execution": {
     "iopub.execute_input": "2024-05-12T14:24:56.831177Z",
     "iopub.status.busy": "2024-05-12T14:24:56.830527Z",
     "iopub.status.idle": "2024-05-12T14:24:58.663299Z",
     "shell.execute_reply": "2024-05-12T14:24:58.662712Z",
     "shell.execute_reply.started": "2024-05-12T14:24:56.831140Z"
    },
    "tags": []
   },
   "outputs": [
    {
     "name": "stdout",
     "output_type": "stream",
     "text": [
      "На основе приведённого вами фрагмента можно сделать вывод, что некоторые функции и классы из пакета **torch.jit.quantized** больше не поддерживаются в версии PyTorch 2.3.0.\n",
      "\n",
      "Однако более точную информацию можно получить только при изучении полного текста изменений в документации PyTorch версии 2.3.0:  \n",
      "https://pytorch.org/2.3/changelog/2.3.html\n",
      "\n",
      "Кроме того, в приведённом вами тексте упоминаются ещё два пакета: **torch.ao.nn** и **torch.ao.quantization**, которые также могут содержать информацию об изменениях, касающихся затронутых функций и классов.  \n",
      "\n",
      "Если вы хотите узнать, какие именно изменения произошли в PyTorch, вам следует обратиться к документации для этой версии.\n"
     ]
    }
   ],
   "source": [
    "# Промпт для обработки документов\n",
    "document_prompt = PromptTemplate(\n",
    "    input_variables=[\"page_content\"],\n",
    "    template=\"{page_content}\"\n",
    ")\n",
    "\n",
    "# Промпт для языковой модели\n",
    "document_variable_name = \"context\"\n",
    "stuff_prompt_override = \"\"\"\n",
    "    Прими во внимание приложенные к вопросу тексты и ответь на вопрос.\n",
    "    Текст:\n",
    "    -----\n",
    "    {context}\n",
    "    -----\n",
    "    Вопрос:\n",
    "    {query}\n",
    "    \"\"\"\n",
    "prompt = PromptTemplate(\n",
    "    template=stuff_prompt_override,\n",
    "    input_variables=[\"context\", \"query\"]\n",
    ")\n",
    "\n",
    "llm = YandexGPT(iam_token=TOKEN, folder_id=FOLDER_ID)\n",
    "\n",
    "# Создаём цепочку\n",
    "llm_chain = LLMChain(llm=llm, prompt=prompt)\n",
    "chain = StuffDocumentsChain(\n",
    "    llm_chain=llm_chain,\n",
    "    document_prompt=document_prompt,\n",
    "    document_variable_name=document_variable_name,\n",
    ")\n",
    "\n",
    "response = chain.invoke({'query': query,\n",
    "                         'input_documents': docs})\n",
    "\n",
    "print(response[\"output_text\"])"
   ]
  }
 ],
 "metadata": {
  "kernelspec": {
   "display_name": "DataSphere Kernel",
   "language": "python",
   "name": "python3"
  },
  "language_info": {
   "codemirror_mode": {
    "name": "ipython",
    "version": 3
   },
   "file_extension": ".py",
   "mimetype": "text/x-python",
   "name": "python",
   "nbconvert_exporter": "python",
   "pygments_lexer": "ipython3",
   "version": "3.10.12"
  }
 },
 "nbformat": 4,
 "nbformat_minor": 5
}
