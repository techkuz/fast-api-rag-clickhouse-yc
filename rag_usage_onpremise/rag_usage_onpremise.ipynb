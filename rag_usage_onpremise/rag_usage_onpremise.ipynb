{
 "cells": [
  {
   "cell_type": "markdown",
   "metadata": {},
   "source": [
    "### 1. Устанавливаем необходимые библиотеки"
   ]
  },
  {
   "cell_type": "code",
   "execution_count": null,
   "metadata": {
    "vscode": {
     "languageId": "shellscript"
    }
   },
   "outputs": [],
   "source": [
    "%pip install -r requirements.txt"
   ]
  },
  {
   "cell_type": "markdown",
   "metadata": {},
   "source": [
    "После установки библиотек необходимо перегазгрузить Kernel. Для этого в верхнем меню выберите Kernel -> Restart Kernel"
   ]
  },
  {
   "cell_type": "markdown",
   "metadata": {
    "vscode": {
     "languageId": "shellscript"
    }
   },
   "source": [
    "### 2. Указываем необходимые параметры для работы с облаком"
   ]
  },
  {
   "cell_type": "code",
   "execution_count": 1,
   "metadata": {},
   "outputs": [],
   "source": [
    "TOKEN = \"\" # IAM токен, подробнее - https://yandex.cloud/ru/docs/iam/operations/iam-token/create-for-sa\n",
    "FOLDER_ID = \"\" # ваш folder_id в облаке"
   ]
  },
  {
   "cell_type": "markdown",
   "metadata": {},
   "source": [
    "##### скачиваем сертификат"
   ]
  },
  {
   "cell_type": "code",
   "execution_count": 3,
   "metadata": {
    "vscode": {
     "languageId": "shellscript"
    }
   },
   "outputs": [
    {
     "name": "stdout",
     "output_type": "stream",
     "text": [
      "--2024-05-12 17:41:29--  https://storage.yandexcloud.net/cloud-certs/CA.pem\n",
      "Resolving storage.yandexcloud.net (storage.yandexcloud.net)... 2a02:6b8::1d9, 213.180.193.243\n",
      "Connecting to storage.yandexcloud.net (storage.yandexcloud.net)|2a02:6b8::1d9|:443... connected.\n",
      "HTTP request sent, awaiting response... 200 OK\n",
      "Length: 3579 (3,5K) [application/x-x509-ca-cert]\n",
      "Saving to: ‘.clickhouse/root.crt’\n",
      "\n",
      ".clickhouse/root.cr 100%[===================>]   3,50K  --.-KB/s    in 0s      \n",
      "\n",
      "2024-05-12 17:41:29 (69,9 KB/s) - ‘.clickhouse/root.crt’ saved [3579/3579]\n",
      "\n"
     ]
    }
   ],
   "source": [
    "# здесь используется сертификат Yandex Cloud, но если вы также используете SSL, то установите свой\n",
    "!mkdir -p .clickhouse && \\\n",
    "wget \"https://storage.yandexcloud.net/cloud-certs/CA.pem\" \\\n",
    "     --output-document .clickhouse/root.crt && \\\n",
    "chmod 0600 .clickhouse/root.crt"
   ]
  },
  {
   "cell_type": "markdown",
   "metadata": {},
   "source": [
    "### 3. Импортируем необходимые библиотеки и указываем данные подключений к сопутствующим сервисам"
   ]
  },
  {
   "cell_type": "code",
   "execution_count": 5,
   "metadata": {},
   "outputs": [],
   "source": [
    "import requests\n",
    "import json\n",
    "\n",
    "FAST_API_HOST = 'http://127.0.0.1:8000'\n",
    "CH_HOST = ''\n",
    "CH_PORT = '8443'\n",
    "CH_USER = 'admin'\n",
    "CH_PASSWORD = ''\n",
    "CA_CERT = 'root.crt' # путь к скачанному сертификату\n",
    "FOLDER_ID = ''\n",
    "S3_PREFIX = ''\n",
    "S3_BUCKET = ''\n",
    "S3_URL = 'https://storage.yandexcloud.net' # или какой-либо другой\n",
    "S3_ACCESS_KEY_ID = ''\n",
    "S3_SECRET_ACCESS_KEY = ''"
   ]
  },
  {
   "cell_type": "markdown",
   "metadata": {},
   "source": [
    "### 4. Выполняем запрос к Clickhouse для проверки подключения"
   ]
  },
  {
   "cell_type": "code",
   "execution_count": 7,
   "metadata": {
    "vscode": {
     "languageId": "shellscript"
    }
   },
   "outputs": [
    {
     "name": "stdout",
     "output_type": "stream",
     "text": [
      "\"24.3.2.23\"\n"
     ]
    }
   ],
   "source": [
    "url = f\"{FAST_API_HOST}/clickhouse_connection?host={CH_HOST}&port={PORT}&user={CH_USER}&password={CH_PASSWORD}&ca_cert={CA_CERT}\"\n",
    "\n",
    "payload = {}\n",
    "headers = {\n",
    "    'Cache-Control': 'no-cache',\n",
    "    'Accept': '*/*',\n",
    "    'Accept-Encoding': 'gzip,deflate',\n",
    "    'Connection': 'keep-alive'\n",
    "}\n",
    "\n",
    "response = requests.request(\"GET\", url, headers=headers, data=payload)\n",
    "\n",
    "print(response.text) # в случае успеха показывается текущая версия Clickhouse"
   ]
  },
  {
   "cell_type": "markdown",
   "metadata": {},
   "source": [
    "### 5. Создаем индекс в Clickhouse для поиска релевантных документов "
   ]
  },
  {
   "cell_type": "code",
   "execution_count": 9,
   "metadata": {},
   "outputs": [
    {
     "name": "stdout",
     "output_type": "stream",
     "text": [
      "null\n"
     ]
    }
   ],
   "source": [
    "url = f\"{FAST_API_HOST}/embeddings?ch_host={CH_HOST}&ch_port={CH_PORT}&ch_user={CH_USER}&ch_password={CH_PASSWORD}&ch_ca_cert={CA_CERT}&folder_id={FOLDER_ID}&s3_bucket={S3_BUCKET}&s3_prefix={S3_PREFIX}&s3_url={S3_URL}/&token={TOKEN}&s3_access_key_id={S3_ACCESS_KEY_ID}&s3_secret_access_key={S3_SECRET_ACCESS_KEY}\"\n",
    "\n",
    "payload = {}\n",
    "headers = {\n",
    "    'Cache-Control': 'no-cache',\n",
    "    'Accept': '*/*',\n",
    "    'Accept-Encoding': 'gzip,deflate',\n",
    "    'Connection': 'keep-alive'\n",
    "}\n",
    "\n",
    "response = requests.request(\"POST\", url, headers=headers, data=payload)\n",
    "\n",
    "print(response.text)"
   ]
  },
  {
   "cell_type": "markdown",
   "metadata": {},
   "source": [
    "### 6. Тестируем поиск по векторам для запроса \n",
    "\n",
    "###### Могу ли я использовать эти API в pytorch 2.3.0?\n",
    "###### torch.jit.quantized APIs\n",
    "\n",
    "###### torch.jit.quantized.quantize_rnn_cell_modules\n",
    "\n",
    "###### torch.jit.quantized.quantize_rnn_modules\n",
    "###### torch.jit.quantized.quantize_linear_modules\n",
    "\n",
    "###### torch.jit.quantized.QuantizedLinear\n",
    "###### torch.jit.QuantizedLinearFP16\n",
    "\n",
    "###### torch.jit.quantized.QuantizedGRU\n",
    "###### torch.jit.quantized.QuantizedGRUCell\n",
    "###### torch.jit.quantized.QuantizedLSTM\n",
    "###### torch.jit.quantized.QuantizedLSTMCell"
   ]
  },
  {
   "cell_type": "code",
   "execution_count": 20,
   "metadata": {},
   "outputs": [
    {
     "name": "stdout",
     "output_type": "stream",
     "text": [
      "pytorch\n",
      "2.2.2\n",
      "2.3.0\n",
      "2024-04-26\n",
      "Backwards Incompatible Changes\n",
      "\n",
      "Remove deprecated torch.jit.quantized APIs (#118406)\n",
      "All functions and classes under torch.jit.quantized will now raise an error if called/instantiated. This API has long been deprecated in favor of torch.ao.nn.quantized.\n",
      "\n",
      "2.2\t2.3\n",
      "# torch.jit.quantized APIs\n",
      "\n",
      "torch.jit.quantized.quantize_rnn_cell_modules\n",
      "\n",
      "torch.jit.quantized.quantize_rnn_modules\n",
      "torch.jit.quantized.quantize_linear_modules\n",
      "\n",
      "torch.jit.quantized.QuantizedLinear\n",
      "torch.jit.QuantizedLinearFP16\n",
      "\n",
      "torch.jit.quantized.QuantizedGRU\n",
      "torch.jit.quantized.QuantizedGRUCell\n",
      "torch.jit.quantized.QuantizedLSTM\n",
      "torch.jit.quantized.QuantizedLSTMCell\n",
      "# Corresponding torch.ao.quantization APIs\n",
      "\n",
      "torch.ao.nn.quantized.dynamic.RNNCell\n",
      "\n",
      "torch.ao.quantization.quantize_dynamic APIs\n",
      "\n",
      "torch.ao.nn.quantized.dynamic.Linear\n",
      "\n",
      "torch.ao.nn.quantized.dynamic.GRU\n",
      "torch.ao.nn.quantized.dynamic.GRUCell\n",
      "torch.ao.nn.quantized.dynamic.LSTM\n",
      "\n",
      " ----------END_OF_DOC---------- \n",
      "\n",
      "pytorch\n",
      "2.2.2\n",
      "2.3.0\n",
      "2024-04-26\n",
      "Documentation\n",
      "\n",
      " ----------END_OF_DOC---------- \n",
      "\n"
     ]
    }
   ],
   "source": [
    "url = f\"{FAST_API_HOST}/similar_docs\"\n",
    "\n",
    "payload = json.dumps({\n",
    "    \"text\": \"Могу ли я использовать эти API в pytorch 2.3.0?\\n# torch.jit.quantized APIs\\ntorch.jit.quantized.quantize_rnn_cell_modules\\ntorch.jit.quantized.quantize_rnn_modules\\ntorch.jit.quantized.quantize_linear_modules\\ntorch.jit.quantized.QuantizedLinear\\ntorch.jit.QuantizedLinearFP16\\ntorch.jit.quantized.QuantizedGRU\\ntorch.jit.quantized.QuantizedGRUCell\\ntorch.jit.quantized.QuantizedLSTM\\ntorch.jit.quantized.QuantizedLSTMCell\"\n",
    "})\n",
    "headers = {\n",
    "    'Content-Type': 'application/json',\n",
    "    'Cache-Control': 'no-cache',\n",
    "    'Accept': '*/*',\n",
    "    'Accept-Encoding': 'gzip,deflate',\n",
    "    'Connection': 'keep-alive'\n",
    "}\n",
    "\n",
    "response = requests.request(\"GET\", url, headers=headers, data=payload)\n",
    "\n",
    "for element in response.json():\n",
    "    beautify_string = bytes(element['page_content'], \"utf-8\").decode(\"unicode_escape\")\n",
    "    print(beautify_string)\n",
    "    print(\"\\n ----------END_OF_DOC---------- \\n\")"
   ]
  },
  {
   "cell_type": "markdown",
   "metadata": {},
   "source": [
    "### 7. Отправляем запрос к YaGPT"
   ]
  },
  {
   "cell_type": "code",
   "execution_count": 29,
   "metadata": {},
   "outputs": [
    {
     "name": "stdout",
     "output_type": "stream",
     "text": [
      "Чтобы определить, можно ли использовать указанные API в PyTorch 2.3.0, необходимо учесть следующие моменты:\n",
      "1. PyTorch версии 2.3.0 вышла в июне 2020 года, а последняя версия PyTorch на момент публикации этого текста (21 октября 2023 года) — 1.12.1.*, поэтому API из PyTorch 2.3.0 могут быть недоступны в более новых версиях.\n",
      "1. API для квантизации слоёв и моделей (*torch.jit.qantized.*) доступны в PyTorch начиная с версии 1.5.0.  \n",
      "\n",
      "Исходя из этих фактов, можно предположить, что API, указанные в запросе, могут быть доступны в PyTorch версии  2.3.0. Однако для точного ответа на этот вопрос необходимо удостовериться в этом напрямую.\n",
      "\n",
      "Самый простой способ проверить доступность API в PyTorch — воспользоваться *pip freeze* или *pip list*, чтобы вывести список установленных пакетов. Затем нужно найти PyTorch в списке и проверить его версию.\n",
      "**Пример использования *pip freeze***:\n",
      "\n",
      "```\n",
      "pip freeze > pip_freeze.txt\n",
      "```\n",
      "\n",
      "Затем можно найти в списке PyTorch и посмотреть его версию, используя команду *grep* или аналогичный инструмент поиска:\n",
      "\n",
      "```\n",
      "grep -i pytorch pip_freeze.txt | grep -oP '(?<=^\\s*pip freeze \\s*=\\s*)\\S*'\n",
      "```\n",
      "Если команда выдаст вам версию PyTorch, которая больше или равна 2.3.0 — значит, API доступны.\n",
      "\n",
      "Кроме того, можно использовать специальные инструменты, такие как *torchsummary* или *torchinfo*, чтобы проверить доступность квантизированных API. Эти инструменты используют доступные API и могут показать информацию о них, даже если они недоступны в текущей версии PyTorch.\n",
      "\n",
      "Если вы не уверены в своих навыках работы с командной строкой или Python, лучше обратиться к документации PyTorch или задать вопрос на специализированных форумах или ресурсах для разработчиков.\n"
     ]
    }
   ],
   "source": [
    "url = f\"{FAST_API_HOST}/llm?folder_id={FOLDER_ID}&token={TOKEN}\"\n",
    "\n",
    "payload = json.dumps({\n",
    "    \"text\": \"Могу ли я использовать эти API в pytorch 2.3.0?\\n# torch.jit.quantized APIs\\ntorch.jit.quantized.quantize_rnn_cell_modules\\ntorch.jit.quantized.quantize_rnn_modules\\ntorch.jit.quantized.quantize_linear_modules\\ntorch.jit.quantized.QuantizedLinear\\ntorch.jit.QuantizedLinearFP16\\ntorch.jit.quantized.QuantizedGRU\\ntorch.jit.quantized.QuantizedGRUCell\\ntorch.jit.quantized.QuantizedLSTM\\ntorch.jit.quantized.QuantizedLSTMCell\"\n",
    "})\n",
    "headers = {\n",
    "    'Content-Type': 'application/json',\n",
    "    'Cache-Control': 'no-cache',\n",
    "    'Accept': '*/*',\n",
    "    'Accept-Encoding': 'gzip,deflate',\n",
    "    'Connection': 'keep-alive'\n",
    "}\n",
    "\n",
    "response = requests.request(\"POST\", url, headers=headers, data=payload)\n",
    "\n",
    "print(response.json())"
   ]
  },
  {
   "cell_type": "markdown",
   "metadata": {},
   "source": [
    "### 8. Отправляем запрос к YaGPT с использованием найденных раннее релевантных документов"
   ]
  },
  {
   "cell_type": "code",
   "execution_count": 32,
   "metadata": {},
   "outputs": [
    {
     "name": "stdout",
     "output_type": "stream",
     "text": [
      "На основе приведённого вами фрагмента можно сделать вывод, что часть перечисленных функций и классов в PyTorch 2.3.0 больше не поддерживается и при вызове или создании экземпляра будет вызывать ошибку.\n",
      "\n",
      "Для уточнения деталей и получения более точной информации рекомендуется обратиться к документации PyTorch или обратиться к сообществу разработчиков PyTorch на официальном сайте https://discuss.pytorch.org/.\n",
      "\n",
      "**Важно отметить, что это лишь фрагмент документации PyTorch от 26 апреля 2024 года, а не полная документация по всем версиям PyTorch.** Для получения полной информации о поддерживаемых версиях и изменениях рекомендуется обратиться к актуальной документации на официальном сайте PyTorch.\n"
     ]
    }
   ],
   "source": [
    "url = f\"{FAST_API_HOST}/llm_rag?folder_id={FOLDER_ID}&token={TOKEN}\"\n",
    "\n",
    "payload = json.dumps({\n",
    "    \"text\": \"Могу ли я использовать эти API в pytorch 2.3.0?\\n# torch.jit.quantized APIs\\ntorch.jit.quantized.quantize_rnn_cell_modules\\ntorch.jit.quantized.quantize_rnn_modules\\ntorch.jit.quantized.quantize_linear_modules\\ntorch.jit.quantized.QuantizedLinear\\ntorch.jit.QuantizedLinearFP16\\ntorch.jit.quantized.QuantizedGRU\\ntorch.jit.quantized.QuantizedGRUCell\\ntorch.jit.quantized.QuantizedLSTM\\ntorch.jit.quantized.QuantizedLSTMCell\"\n",
    "})\n",
    "headers = {\n",
    "    'Content-Type': 'application/json',\n",
    "    'Cache-Control': 'no-cache',\n",
    "    'Accept': '*/*',\n",
    "    'Accept-Encoding': 'gzip,deflate',\n",
    "    'Connection': 'keep-alive'\n",
    "}\n",
    "\n",
    "response = requests.request(\"POST\", url, headers=headers, data=payload)\n",
    "\n",
    "print(response.json()[\"output_text\"])"
   ]
  }
 ],
 "metadata": {
  "kernelspec": {
   "display_name": ".venv",
   "language": "python",
   "name": "python3"
  },
  "language_info": {
   "codemirror_mode": {
    "name": "ipython",
    "version": 3
   },
   "file_extension": ".py",
   "mimetype": "text/x-python",
   "name": "python",
   "nbconvert_exporter": "python",
   "pygments_lexer": "ipython3",
   "version": "3.11.5"
  }
 },
 "nbformat": 4,
 "nbformat_minor": 2
}
